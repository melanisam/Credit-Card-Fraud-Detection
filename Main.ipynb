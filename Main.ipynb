{
 "cells": [
  {
   "cell_type": "code",
   "execution_count": 3,
   "id": "ecfe4617",
   "metadata": {},
   "outputs": [],
   "source": [
    "import pandas as pd\n",
    "import numpy as np\n",
    "from scipy.stats import zscore"
   ]
  },
  {
   "cell_type": "code",
   "execution_count": 4,
   "id": "2d4b2aa5",
   "metadata": {},
   "outputs": [
    {
     "data": {
      "text/html": [
       "<div>\n",
       "<style scoped>\n",
       "    .dataframe tbody tr th:only-of-type {\n",
       "        vertical-align: middle;\n",
       "    }\n",
       "\n",
       "    .dataframe tbody tr th {\n",
       "        vertical-align: top;\n",
       "    }\n",
       "\n",
       "    .dataframe thead th {\n",
       "        text-align: right;\n",
       "    }\n",
       "</style>\n",
       "<table border=\"1\" class=\"dataframe\">\n",
       "  <thead>\n",
       "    <tr style=\"text-align: right;\">\n",
       "      <th></th>\n",
       "      <th>Unnamed: 0</th>\n",
       "      <th>trans_date_trans_time</th>\n",
       "      <th>cc_num</th>\n",
       "      <th>merchant</th>\n",
       "      <th>category</th>\n",
       "      <th>amt</th>\n",
       "      <th>first</th>\n",
       "      <th>last</th>\n",
       "      <th>gender</th>\n",
       "      <th>street</th>\n",
       "      <th>...</th>\n",
       "      <th>lat</th>\n",
       "      <th>long</th>\n",
       "      <th>city_pop</th>\n",
       "      <th>job</th>\n",
       "      <th>dob</th>\n",
       "      <th>trans_num</th>\n",
       "      <th>unix_time</th>\n",
       "      <th>merch_lat</th>\n",
       "      <th>merch_long</th>\n",
       "      <th>is_fraud</th>\n",
       "    </tr>\n",
       "  </thead>\n",
       "  <tbody>\n",
       "    <tr>\n",
       "      <th>0</th>\n",
       "      <td>0</td>\n",
       "      <td>2019-01-01 00:00:18</td>\n",
       "      <td>2703186189652095</td>\n",
       "      <td>fraud_Rippin, Kub and Mann</td>\n",
       "      <td>misc_net</td>\n",
       "      <td>4.97</td>\n",
       "      <td>Jennifer</td>\n",
       "      <td>Banks</td>\n",
       "      <td>F</td>\n",
       "      <td>561 Perry Cove</td>\n",
       "      <td>...</td>\n",
       "      <td>36.0788</td>\n",
       "      <td>-81.1781</td>\n",
       "      <td>3495</td>\n",
       "      <td>Psychologist, counselling</td>\n",
       "      <td>1988-03-09</td>\n",
       "      <td>0b242abb623afc578575680df30655b9</td>\n",
       "      <td>1325376018</td>\n",
       "      <td>36.011293</td>\n",
       "      <td>-82.048315</td>\n",
       "      <td>0</td>\n",
       "    </tr>\n",
       "    <tr>\n",
       "      <th>1</th>\n",
       "      <td>1</td>\n",
       "      <td>2019-01-01 00:00:44</td>\n",
       "      <td>630423337322</td>\n",
       "      <td>fraud_Heller, Gutmann and Zieme</td>\n",
       "      <td>grocery_pos</td>\n",
       "      <td>107.23</td>\n",
       "      <td>Stephanie</td>\n",
       "      <td>Gill</td>\n",
       "      <td>F</td>\n",
       "      <td>43039 Riley Greens Suite 393</td>\n",
       "      <td>...</td>\n",
       "      <td>48.8878</td>\n",
       "      <td>-118.2105</td>\n",
       "      <td>149</td>\n",
       "      <td>Special educational needs teacher</td>\n",
       "      <td>1978-06-21</td>\n",
       "      <td>1f76529f8574734946361c461b024d99</td>\n",
       "      <td>1325376044</td>\n",
       "      <td>49.159047</td>\n",
       "      <td>-118.186462</td>\n",
       "      <td>0</td>\n",
       "    </tr>\n",
       "    <tr>\n",
       "      <th>2</th>\n",
       "      <td>2</td>\n",
       "      <td>2019-01-01 00:00:51</td>\n",
       "      <td>38859492057661</td>\n",
       "      <td>fraud_Lind-Buckridge</td>\n",
       "      <td>entertainment</td>\n",
       "      <td>220.11</td>\n",
       "      <td>Edward</td>\n",
       "      <td>Sanchez</td>\n",
       "      <td>M</td>\n",
       "      <td>594 White Dale Suite 530</td>\n",
       "      <td>...</td>\n",
       "      <td>42.1808</td>\n",
       "      <td>-112.2620</td>\n",
       "      <td>4154</td>\n",
       "      <td>Nature conservation officer</td>\n",
       "      <td>1962-01-19</td>\n",
       "      <td>a1a22d70485983eac12b5b88dad1cf95</td>\n",
       "      <td>1325376051</td>\n",
       "      <td>43.150704</td>\n",
       "      <td>-112.154481</td>\n",
       "      <td>0</td>\n",
       "    </tr>\n",
       "    <tr>\n",
       "      <th>3</th>\n",
       "      <td>3</td>\n",
       "      <td>2019-01-01 00:01:16</td>\n",
       "      <td>3534093764340240</td>\n",
       "      <td>fraud_Kutch, Hermiston and Farrell</td>\n",
       "      <td>gas_transport</td>\n",
       "      <td>45.00</td>\n",
       "      <td>Jeremy</td>\n",
       "      <td>White</td>\n",
       "      <td>M</td>\n",
       "      <td>9443 Cynthia Court Apt. 038</td>\n",
       "      <td>...</td>\n",
       "      <td>46.2306</td>\n",
       "      <td>-112.1138</td>\n",
       "      <td>1939</td>\n",
       "      <td>Patent attorney</td>\n",
       "      <td>1967-01-12</td>\n",
       "      <td>6b849c168bdad6f867558c3793159a81</td>\n",
       "      <td>1325376076</td>\n",
       "      <td>47.034331</td>\n",
       "      <td>-112.561071</td>\n",
       "      <td>0</td>\n",
       "    </tr>\n",
       "    <tr>\n",
       "      <th>4</th>\n",
       "      <td>4</td>\n",
       "      <td>2019-01-01 00:03:06</td>\n",
       "      <td>375534208663984</td>\n",
       "      <td>fraud_Keeling-Crist</td>\n",
       "      <td>misc_pos</td>\n",
       "      <td>41.96</td>\n",
       "      <td>Tyler</td>\n",
       "      <td>Garcia</td>\n",
       "      <td>M</td>\n",
       "      <td>408 Bradley Rest</td>\n",
       "      <td>...</td>\n",
       "      <td>38.4207</td>\n",
       "      <td>-79.4629</td>\n",
       "      <td>99</td>\n",
       "      <td>Dance movement psychotherapist</td>\n",
       "      <td>1986-03-28</td>\n",
       "      <td>a41d7549acf90789359a9aa5346dcb46</td>\n",
       "      <td>1325376186</td>\n",
       "      <td>38.674999</td>\n",
       "      <td>-78.632459</td>\n",
       "      <td>0</td>\n",
       "    </tr>\n",
       "  </tbody>\n",
       "</table>\n",
       "<p>5 rows × 23 columns</p>\n",
       "</div>"
      ],
      "text/plain": [
       "   Unnamed: 0 trans_date_trans_time            cc_num  \\\n",
       "0           0   2019-01-01 00:00:18  2703186189652095   \n",
       "1           1   2019-01-01 00:00:44      630423337322   \n",
       "2           2   2019-01-01 00:00:51    38859492057661   \n",
       "3           3   2019-01-01 00:01:16  3534093764340240   \n",
       "4           4   2019-01-01 00:03:06   375534208663984   \n",
       "\n",
       "                             merchant       category     amt      first  \\\n",
       "0          fraud_Rippin, Kub and Mann       misc_net    4.97   Jennifer   \n",
       "1     fraud_Heller, Gutmann and Zieme    grocery_pos  107.23  Stephanie   \n",
       "2                fraud_Lind-Buckridge  entertainment  220.11     Edward   \n",
       "3  fraud_Kutch, Hermiston and Farrell  gas_transport   45.00     Jeremy   \n",
       "4                 fraud_Keeling-Crist       misc_pos   41.96      Tyler   \n",
       "\n",
       "      last gender                        street  ...      lat      long  \\\n",
       "0    Banks      F                561 Perry Cove  ...  36.0788  -81.1781   \n",
       "1     Gill      F  43039 Riley Greens Suite 393  ...  48.8878 -118.2105   \n",
       "2  Sanchez      M      594 White Dale Suite 530  ...  42.1808 -112.2620   \n",
       "3    White      M   9443 Cynthia Court Apt. 038  ...  46.2306 -112.1138   \n",
       "4   Garcia      M              408 Bradley Rest  ...  38.4207  -79.4629   \n",
       "\n",
       "   city_pop                                job         dob  \\\n",
       "0      3495          Psychologist, counselling  1988-03-09   \n",
       "1       149  Special educational needs teacher  1978-06-21   \n",
       "2      4154        Nature conservation officer  1962-01-19   \n",
       "3      1939                    Patent attorney  1967-01-12   \n",
       "4        99     Dance movement psychotherapist  1986-03-28   \n",
       "\n",
       "                          trans_num   unix_time  merch_lat  merch_long  \\\n",
       "0  0b242abb623afc578575680df30655b9  1325376018  36.011293  -82.048315   \n",
       "1  1f76529f8574734946361c461b024d99  1325376044  49.159047 -118.186462   \n",
       "2  a1a22d70485983eac12b5b88dad1cf95  1325376051  43.150704 -112.154481   \n",
       "3  6b849c168bdad6f867558c3793159a81  1325376076  47.034331 -112.561071   \n",
       "4  a41d7549acf90789359a9aa5346dcb46  1325376186  38.674999  -78.632459   \n",
       "\n",
       "   is_fraud  \n",
       "0         0  \n",
       "1         0  \n",
       "2         0  \n",
       "3         0  \n",
       "4         0  \n",
       "\n",
       "[5 rows x 23 columns]"
      ]
     },
     "execution_count": 4,
     "metadata": {},
     "output_type": "execute_result"
    }
   ],
   "source": [
    "data = pd.read_csv('fraudTrain.csv')\n",
    "data.head()"
   ]
  },
  {
   "cell_type": "code",
   "execution_count": 5,
   "id": "81929c96",
   "metadata": {},
   "outputs": [],
   "source": [
    "# convert to datetime object\n",
    "data['trans_date_trans_time'] = pd.to_datetime(data['trans_date_trans_time'])\n",
    "data['dob'] = pd.to_datetime(data['dob'])"
   ]
  },
  {
   "cell_type": "code",
   "execution_count": 6,
   "id": "641beca5",
   "metadata": {},
   "outputs": [
    {
     "data": {
      "text/plain": [
       "Unnamed: 0                        int64\n",
       "trans_date_trans_time    datetime64[ns]\n",
       "cc_num                            int64\n",
       "merchant                         object\n",
       "category                         object\n",
       "amt                             float64\n",
       "first                            object\n",
       "last                             object\n",
       "gender                           object\n",
       "street                           object\n",
       "city                             object\n",
       "state                            object\n",
       "zip                               int64\n",
       "lat                             float64\n",
       "long                            float64\n",
       "city_pop                          int64\n",
       "job                              object\n",
       "dob                      datetime64[ns]\n",
       "trans_num                        object\n",
       "unix_time                         int64\n",
       "merch_lat                       float64\n",
       "merch_long                      float64\n",
       "is_fraud                          int64\n",
       "dtype: object"
      ]
     },
     "execution_count": 6,
     "metadata": {},
     "output_type": "execute_result"
    }
   ],
   "source": [
    "data.dtypes"
   ]
  },
  {
   "cell_type": "code",
   "execution_count": 7,
   "id": "9675c585",
   "metadata": {},
   "outputs": [
    {
     "data": {
      "text/plain": [
       "Index(['Unnamed: 0', 'trans_date_trans_time', 'cc_num', 'merchant', 'category',\n",
       "       'amt', 'first', 'last', 'gender', 'street', 'city', 'state', 'zip',\n",
       "       'lat', 'long', 'city_pop', 'job', 'dob', 'trans_num', 'unix_time',\n",
       "       'merch_lat', 'merch_long', 'is_fraud'],\n",
       "      dtype='object')"
      ]
     },
     "execution_count": 7,
     "metadata": {},
     "output_type": "execute_result"
    }
   ],
   "source": [
    "data.columns"
   ]
  },
  {
   "cell_type": "code",
   "execution_count": 8,
   "id": "c392561e",
   "metadata": {},
   "outputs": [
    {
     "data": {
      "text/plain": [
       "1296675"
      ]
     },
     "execution_count": 8,
     "metadata": {},
     "output_type": "execute_result"
    }
   ],
   "source": [
    "len(data)"
   ]
  },
  {
   "cell_type": "code",
   "execution_count": 9,
   "id": "30efe481",
   "metadata": {},
   "outputs": [
    {
     "data": {
      "text/plain": [
       "0    1289169\n",
       "1       7506\n",
       "Name: is_fraud, dtype: int64"
      ]
     },
     "execution_count": 9,
     "metadata": {},
     "output_type": "execute_result"
    }
   ],
   "source": [
    "data['is_fraud'].value_counts()"
   ]
  },
  {
   "cell_type": "code",
   "execution_count": 11,
   "id": "41f8a9c6",
   "metadata": {},
   "outputs": [
    {
     "data": {
      "text/plain": [
       "Unnamed: 0               0\n",
       "trans_date_trans_time    0\n",
       "cc_num                   0\n",
       "merchant                 0\n",
       "category                 0\n",
       "amt                      0\n",
       "first                    0\n",
       "last                     0\n",
       "gender                   0\n",
       "street                   0\n",
       "city                     0\n",
       "state                    0\n",
       "zip                      0\n",
       "lat                      0\n",
       "long                     0\n",
       "city_pop                 0\n",
       "job                      0\n",
       "dob                      0\n",
       "trans_num                0\n",
       "unix_time                0\n",
       "merch_lat                0\n",
       "merch_long               0\n",
       "is_fraud                 0\n",
       "dtype: int64"
      ]
     },
     "execution_count": 11,
     "metadata": {},
     "output_type": "execute_result"
    }
   ],
   "source": [
    "data.isna().sum()"
   ]
  },
  {
   "cell_type": "code",
   "execution_count": 12,
   "id": "f05c056f",
   "metadata": {},
   "outputs": [],
   "source": [
    "# feature engineering \n",
    "data['first_last'] = data['first'].str.lower() + ' ' + data['last'].str.lower()\n",
    "data['cc_transaction_count'] = data.groupby('cc_num').cumcount() + 1\n",
    "data['num_credit_cards'] = data.groupby('first_last')['cc_num'].transform('nunique')"
   ]
  },
  {
   "cell_type": "code",
   "execution_count": null,
   "id": "91daac0a",
   "metadata": {},
   "outputs": [],
   "source": [
    "data = data.drop(columns = [ 'Unnamed: 0', 'first', 'last'])\n",
    "\n",
    "# transaction frequencies for different time periods \n",
    "data['trans_hour'] = data['trans_date_trans_time'].dt.hour\n",
    "data['trans_dayofweek'] = data['trans_date_trans_time'].dt.dayofweek\n",
    "data['hourly_txn_count'] = data.groupby('cc_num')['trans_date_trans_time'].transform(lambda x: x.diff().dt.total_seconds().lt(3600).cumsum())\n",
    "data['daily_txn_count'] = data.groupby(['cc_num', data['trans_date_trans_time'].dt.date])['trans_date_trans_time'].transform('count')"
   ]
  },
  {
   "cell_type": "code",
   "execution_count": null,
   "id": "3ea493fc",
   "metadata": {},
   "outputs": [],
   "source": [
    "# get the rolling mean amt from the last 5 transactions \n",
    "data['rolling_mean_amt'] = data.groupby('cc_num')['amt'].transform(lambda x: x.rolling(5, min_periods=1).mean())\n",
    "\n",
    "# deviation of current transaction from the mean amt\n",
    "data['amt_deviation'] = abs(data['amt'] - data['rolling_mean_amt'])\n",
    "\n",
    "# z score of the amt\n",
    "data['amt_zscore'] = data.groupby('cc_num')['amt'].transform(zscore)\n"
   ]
  },
  {
   "cell_type": "code",
   "execution_count": null,
   "id": "bd50f097",
   "metadata": {},
   "outputs": [],
   "source": [
    "# change data types\n",
    "data['cc_num'] = data['cc_num'].astype(str)  \n",
    "data['zip'] = data['zip'].astype(str)    \n"
   ]
  },
  {
   "cell_type": "code",
   "execution_count": null,
   "id": "52ea66db",
   "metadata": {},
   "outputs": [],
   "source": [
    "# transactions by time period\n",
    "data['trans_year'] = data['trans_date_trans_time'].dt.year\n",
    "data['trans_month'] = data['trans_date_trans_time'].dt.month\n",
    "data['trans_day'] = data['trans_date_trans_time'].dt.day\n",
    "data['dob_yr'] = data['dob'].dt.year\n",
    "\n",
    "data = data.drop(columns=['dob','street','zip','unix_time'])"
   ]
  },
  {
   "cell_type": "code",
   "execution_count": null,
   "id": "29ddeff1",
   "metadata": {},
   "outputs": [],
   "source": [
    "data['merchant'].str.lower()\n",
    "data['merchant'] = data['merchant'].str.replace(r'^fraud_', '', regex=True)\n",
    "data['merchant'].nunique()"
   ]
  },
  {
   "cell_type": "markdown",
   "id": "ef5c5dc4",
   "metadata": {},
   "source": [
    "EDA"
   ]
  },
  {
   "cell_type": "code",
   "execution_count": null,
   "id": "16861534",
   "metadata": {},
   "outputs": [],
   "source": [
    "import pandas as pd\n",
    "import matplotlib.pyplot as plt\n",
    "import seaborn as sns\n",
    "import plotly.figure_factory as ff"
   ]
  },
  {
   "cell_type": "code",
   "execution_count": null,
   "id": "6099cee2",
   "metadata": {},
   "outputs": [],
   "source": [
    "notfraud = data[data['is_fraud'] == 0]\n",
    "isfraud = data[data['is_fraud'] == 1]"
   ]
  },
  {
   "cell_type": "code",
   "execution_count": null,
   "id": "eda5a53b",
   "metadata": {},
   "outputs": [],
   "source": [
    "isfraud.describe()"
   ]
  },
  {
   "cell_type": "code",
   "execution_count": null,
   "id": "6b35269c",
   "metadata": {},
   "outputs": [],
   "source": [
    "notfraud.describe()"
   ]
  },
  {
   "cell_type": "code",
   "execution_count": null,
   "id": "f0e5e61e",
   "metadata": {},
   "outputs": [],
   "source": [
    "fraud_count = isfraud['city'].value_counts().sort_values(ascending=False).head(10)\n",
    "notfraud_count = notfraud['city'].value_counts().sort_values(ascending=False).head(10)\n",
    "\n",
    "plt.figure(figsize=(10, 5))\n",
    "\n",
    "plt.subplot(1, 2, 1)\n",
    "sns.barplot(x=fraud_count.index, y=fraud_count.values, palette='rocket_r')\n",
    "plt.xticks(rotation=45)\n",
    "plt.title(\"Top 10 cities (Fraud)\")\n",
    "plt.xlabel(\"Transaction Count\")\n",
    "plt.ylabel(\"City Name\")\n",
    "\n",
    "\n",
    "plt.subplot(1, 2, 2)\n",
    "sns.barplot(x=notfraud_count.index, y=notfraud_count.values, palette='crest')\n",
    "plt.xticks(rotation=45)\n",
    "plt.title(\"Top 10 cities (Non-Fraud)\")\n",
    "plt.xlabel(\"Transaction Count\")\n",
    "plt.ylabel(\"City Name\")\n",
    "\n",
    "plt.tight_layout()\n",
    "plt.show()"
   ]
  },
  {
   "cell_type": "code",
   "execution_count": null,
   "id": "770d4846",
   "metadata": {},
   "outputs": [],
   "source": [
    "fraud_count = isfraud['merchant'].value_counts().sort_values(ascending=False).head(10)\n",
    "notfraud_count = notfraud['merchant'].value_counts().sort_values(ascending=False).head(10)\n",
    "\n",
    "plt.figure(figsize=(10, 5))\n",
    "\n",
    "plt.subplot(1, 2, 1)\n",
    "sns.barplot(x=fraud_count.index, y=fraud_count.values, palette='rocket_r')\n",
    "plt.xticks(rotation=45)\n",
    "plt.title(\"Top 10 merchants (Fraud)\")\n",
    "plt.xlabel(\"Transaction Count\")\n",
    "plt.ylabel(\"Merchant\")\n",
    "\n",
    "\n",
    "plt.subplot(1, 2, 2)\n",
    "sns.barplot(x=notfraud_count.index, y=notfraud_count.values, palette='crest')\n",
    "plt.xticks(rotation=45)\n",
    "plt.xlabel(\"Transaction Count\")\n",
    "plt.ylabel(\"Merchant\")\n",
    "plt.title(\"Top 10 merchants (Non-Fraud)\")\n",
    "\n",
    "plt.tight_layout()\n",
    "plt.show()"
   ]
  },
  {
   "cell_type": "code",
   "execution_count": null,
   "id": "f5d1f2d2",
   "metadata": {},
   "outputs": [],
   "source": [
    "\n",
    "fraud_count = isfraud['state'].value_counts().sort_values(ascending=False).head(10)\n",
    "notfraud_count = notfraud['state'].value_counts().sort_values(ascending=False).head(10)\n",
    "\n",
    "plt.figure(figsize=(10, 5))\n",
    "\n",
    "plt.subplot(1, 2, 1)\n",
    "sns.barplot(x=fraud_count.index, y=fraud_count.values, palette='rocket_r')\n",
    "plt.xticks(rotation=45)\n",
    "plt.title(\"Top 10 states (Fraud)\")\n",
    "plt.xlabel(\"Transaction Count\")\n",
    "plt.ylabel(\"State\")\n",
    "\n",
    "plt.subplot(1, 2, 2)\n",
    "sns.barplot(x=notfraud_count.index, y=notfraud_count.values, palette='crest')\n",
    "plt.xticks(rotation=45)\n",
    "plt.xlabel(\"Transaction Count\")\n",
    "plt.ylabel(\"State\")\n",
    "plt.title(\"Top 10 states (Non-Fraud)\")\n",
    "\n",
    "plt.tight_layout()\n",
    "plt.show()"
   ]
  },
  {
   "cell_type": "code",
   "execution_count": null,
   "id": "93203fae",
   "metadata": {},
   "outputs": [],
   "source": [
    "fraud_count = isfraud['trans_hour'].value_counts().sort_values(ascending=False)\n",
    "notfraud_count = notfraud['trans_hour'].value_counts().sort_values(ascending=False)\n",
    "\n",
    "plt.figure(figsize=(10, 5))\n",
    "\n",
    "plt.subplot(1, 2, 1)\n",
    "sns.barplot(x=fraud_count.index, y=fraud_count.values, palette='rocket_r')\n",
    "plt.xticks(rotation=45)\n",
    "plt.xlabel(\"Transaction Hour\")\n",
    "plt.ylabel(\"Transaction Count\")\n",
    "plt.title(\"Transaction Hours (Fraud)\")\n",
    "\n",
    "plt.subplot(1, 2, 2)\n",
    "sns.barplot(x=notfraud_count.index, y=notfraud_count.values, palette='crest')\n",
    "plt.xticks(rotation=45)\n",
    "plt.xlabel(\"Transaction Hour\")\n",
    "plt.ylabel(\"Transaction Count\")\n",
    "plt.title(\"Transaction Hours (Non-Fraud)\")\n",
    "\n",
    "plt.tight_layout()\n",
    "plt.show()"
   ]
  },
  {
   "cell_type": "code",
   "execution_count": null,
   "id": "26e6e565",
   "metadata": {},
   "outputs": [],
   "source": [
    "\n",
    "fraud_count = isfraud['job'].value_counts().sort_values(ascending=False).head(10)\n",
    "notfraud_count = notfraud['job'].value_counts().sort_values(ascending=False).head(10)\n",
    "\n",
    "plt.figure(figsize=(10, 5))\n",
    "\n",
    "plt.subplot(1, 2, 1)\n",
    "sns.barplot(x=fraud_count.index, y=fraud_count.values, palette='rocket_r')\n",
    "plt.xticks(rotation=45)\n",
    "plt.xlabel(\"Job title\")\n",
    "plt.ylabel(\"Transaction Count\")\n",
    "plt.title(\"Top 10 Jobs (Fraud)\")\n",
    "\n",
    "\n",
    "plt.subplot(1, 2, 2)\n",
    "sns.barplot(x=notfraud_count.index, y=notfraud_count.values, palette='crest')\n",
    "plt.xticks(rotation=45)\n",
    "plt.xlabel(\"Job title\")\n",
    "plt.ylabel(\"Transaction Count\")\n",
    "plt.title(\"Top 10 Jobs (Non-Fraud)\")\n",
    "\n",
    "plt.tight_layout()\n",
    "plt.show()"
   ]
  },
  {
   "cell_type": "code",
   "execution_count": null,
   "id": "60af6672",
   "metadata": {},
   "outputs": [],
   "source": [
    "fraud_count = isfraud['category'].value_counts().sort_values(ascending=False).head(10)\n",
    "notfraud_count = notfraud['category'].value_counts().sort_values(ascending=False).head(10)\n",
    "\n",
    "plt.figure(figsize=(10, 5))\n",
    "\n",
    "plt.subplot(1, 2, 1)\n",
    "sns.barplot(x=fraud_count.index, y=fraud_count.values, palette='rocket_r')\n",
    "plt.xticks(rotation=45)\n",
    "plt.xlabel(\"Category of Transaction\")\n",
    "plt.ylabel(\"Transaction Count\")\n",
    "plt.title(\"Top 10 Transaction Categories (Fraud)\")\n",
    "\n",
    "plt.subplot(1, 2, 2)\n",
    "sns.barplot(x=notfraud_count.index, y=notfraud_count.values, palette='crest')\n",
    "plt.xticks(rotation=45)\n",
    "plt.xlabel(\"Category of Transaction\")\n",
    "plt.ylabel(\"Transaction Count\")\n",
    "plt.title(\"Top 10 Transaction Categories (Non-Fraud)\")\n",
    "\n",
    "plt.tight_layout()\n",
    "plt.show()"
   ]
  },
  {
   "cell_type": "code",
   "execution_count": null,
   "id": "36ebb6b8",
   "metadata": {},
   "outputs": [],
   "source": [
    "# create new col which computes time (sec) from of the transaction from the very first transaction\n",
    "data['TimeInSeconds'] = (data['trans_date_trans_time'] - data['trans_date_trans_time'].min()).dt.total_seconds()\n",
    "notfraud_t = data[data['is_fraud'] == 0]['TimeInSeconds'].values\n",
    "isfraud_t = data[data['is_fraud'] == 1]['TimeInSeconds'].values"
   ]
  },
  {
   "cell_type": "code",
   "execution_count": null,
   "id": "e99561e3",
   "metadata": {},
   "outputs": [],
   "source": [
    "\n",
    "hist_data = [notfraud_t, isfraud_t]\n",
    "labels = ['Not Fraud', 'Fraud']\n",
    "\n",
    "fig = ff.create_distplot(hist_data, labels, show_hist=False, show_rug=False)\n",
    "\n",
    "# Update layout\n",
    "fig.update_layout(\n",
    "    title='Credit Card Transactions Time Density Plot',\n",
    "    xaxis_title='Time Since First Transaction [s]',\n",
    "    yaxis_title='Density'\n",
    ")\n",
    "\n",
    "# Show the plot\n",
    "fig.show()"
   ]
  },
  {
   "cell_type": "code",
   "execution_count": null,
   "id": "dcf9b73e",
   "metadata": {},
   "outputs": [],
   "source": [
    "# boxplot (without outliers displayed)\n",
    "sns.boxplot(x=\"is_fraud\", y=\"amt\", hue=\"is_fraud\",data=data, palette=\"PRGn\",showfliers=False)"
   ]
  },
  {
   "cell_type": "code",
   "execution_count": null,
   "id": "1b66a01c",
   "metadata": {},
   "outputs": [],
   "source": [
    "plt.figure(figsize=(10, 5))\n",
    "\n",
    "\n",
    "sns.kdeplot(isfraud['cc_transaction_count'], shade=True, color='red', label=\"Fraud\")\n",
    "sns.kdeplot(notfraud['cc_transaction_count'], shade=True, color='blue', label=\"Non-Fraud\")\n",
    "\n",
    "plt.xlabel(\"Number of Transactions\")\n",
    "plt.ylabel(\"Density\")\n",
    "plt.title(\"Density Plot of Transaction Counts (Fraud vs Non-Fraud)\")\n",
    "plt.legend()\n",
    "plt.show()"
   ]
  },
  {
   "cell_type": "code",
   "execution_count": null,
   "id": "f2b9f51e",
   "metadata": {},
   "outputs": [],
   "source": [
    "plt.figure(figsize=(10, 5))\n",
    "\n",
    "\n",
    "sns.kdeplot(isfraud['rolling_mean_amt'], shade=True, color='red', label=\"Fraud\")\n",
    "sns.kdeplot(notfraud['rolling_mean_amt'], shade=True, color='blue', label=\"Non-Fraud\")\n",
    "\n",
    "plt.xlabel(\"Number of Transactions\")\n",
    "plt.ylabel(\"Density\")\n",
    "plt.title(\"Density Plot of Rolling Mean Amount (Fraud vs Non-Fraud)\")\n",
    "plt.legend()\n",
    "plt.show()"
   ]
  },
  {
   "cell_type": "code",
   "execution_count": null,
   "id": "fc8c00cb",
   "metadata": {},
   "outputs": [],
   "source": [
    "data.to_pickle('fraud_data_2.pkl')"
   ]
  }
 ],
 "metadata": {
  "kernelspec": {
   "display_name": "Python 3 (ipykernel)",
   "language": "python",
   "name": "python3"
  },
  "language_info": {
   "codemirror_mode": {
    "name": "ipython",
    "version": 3
   },
   "file_extension": ".py",
   "mimetype": "text/x-python",
   "name": "python",
   "nbconvert_exporter": "python",
   "pygments_lexer": "ipython3",
   "version": "3.9.13"
  }
 },
 "nbformat": 4,
 "nbformat_minor": 5
}
